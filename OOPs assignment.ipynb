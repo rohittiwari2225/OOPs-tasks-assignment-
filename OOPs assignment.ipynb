{
 "cells": [
  {
   "cell_type": "markdown",
   "id": "94100e91-771b-446e-acbe-d3ee5e7b4aa1",
   "metadata": {},
   "source": [
    "Q1 Create a vehicle class with an init method having instance variables as name_of_vehicle, max_speed\n",
    "and average_of_vehicle."
   ]
  },
  {
   "cell_type": "code",
   "execution_count": 23,
   "id": "22e91df5-79aa-4d0d-bac7-41befd0cf21c",
   "metadata": {},
   "outputs": [],
   "source": [
    "class vehicle:\n",
    "    def __init__(self,name_of_vehicle,max_speed,average):\n",
    "        self.name_of_vehicle=name_of_vehicle\n",
    "        self.max_speed =max_speed \n",
    "        self.average=average\n",
    "    def return_details():\n",
    "        pass\n",
    "        \n",
    "        "
   ]
  },
  {
   "cell_type": "markdown",
   "id": "f78e3bc2-6fc9-4586-ad70-8c97ef1fddb4",
   "metadata": {},
   "source": [
    "Q2. Create a child class car from the vehicle class created in Que 1, which will inherit the vehicle class. Create a method named seating_capacity which takes capacity as an argument and returns the name of the vehicle and its seating capacity."
   ]
  },
  {
   "cell_type": "code",
   "execution_count": 24,
   "id": "33501818-a81b-4224-bd33-a5b7e7fe6999",
   "metadata": {},
   "outputs": [],
   "source": [
    "class car(vehicle):\n",
    "    def __init__(self,seating_capacity):\n",
    "        self.seating_capacity=seating_capacity\n",
    "    def return_details(self):\n",
    "        return self.name_of_vehicle,self.seating_capacity\n",
    "         \n",
    "    "
   ]
  },
  {
   "cell_type": "code",
   "execution_count": 25,
   "id": "83c54318-6335-4935-b5f5-da7b02f000a3",
   "metadata": {},
   "outputs": [],
   "source": [
    "c =vehicle(\"tata harrior\",240,40)\n",
    "c=car(6)"
   ]
  },
  {
   "cell_type": "markdown",
   "id": "7ea52a62-e314-43f5-8d45-9bf8716d245c",
   "metadata": {},
   "source": [
    "Q3. What is multiple inheritance? Write a python code to demonstrate multiple inheritance.     \n",
    "Ans: when a derived class inherits the property of two or more Independent parent class this is called as multiple inheritance."
   ]
  },
  {
   "cell_type": "code",
   "execution_count": 21,
   "id": "6234db0f-d97f-4591-8677-1597a0b485f9",
   "metadata": {},
   "outputs": [],
   "source": [
    "class elder_brother:\n",
    "    def maths(self):\n",
    "        print( \"knowledge of math\")\n",
    "class elder_sister:\n",
    "    def bio(self):\n",
    "        print( \"knowledge of bio\" )\n",
    "class younger_brother(elder_brother,elder_sister):\n",
    "    pass\n",
    "obj_y = younger_brother()\n",
    "\n"
   ]
  },
  {
   "cell_type": "markdown",
   "id": "a872fd08-39fe-4e0b-8f40-9fe3a70e7c97",
   "metadata": {},
   "source": [
    "Q4. What are getter and setter in python? Create a class and create a getter and a setter method in this\n",
    "class."
   ]
  },
  {
   "cell_type": "markdown",
   "id": "f24154a5-b677-4756-85aa-64d524ff5f5b",
   "metadata": {},
   "source": [
    "A getter method (also known as an accessor method) is used to retrieve the value of an object’s attribute.\n",
    "It provides a way to read data without directly accessing the attributes.\n",
    "By using getter methods, you can control how the attribute value is returned.\n",
    "Typically, getter methods have names like get_attribute_name().\n",
    "A setter method (also known as a mutator method) is used to change the value of an object’s attribute.\n",
    "It allows you to modify an attribute in a controlled manner.\n",
    "Setter methods help maintain data consistency and validation rules.\n",
    "Usually, setter methods have names like set_attribute_name(value).\n"
   ]
  },
  {
   "cell_type": "code",
   "execution_count": 27,
   "id": "08ea14ce-7a2e-4702-8a49-1ae289242ec3",
   "metadata": {},
   "outputs": [],
   "source": [
    "class student:\n",
    "    def __init__(self,clas,age):\n",
    "        self.clas= clas \n",
    "        self.age = age \n",
    "    def setage(self,age):\n",
    "        self.age = age\n",
    "    def getage(self):\n",
    "        print(self.age)\n",
    "        \n",
    "       \n",
    "        \n",
    "        "
   ]
  },
  {
   "cell_type": "code",
   "execution_count": 28,
   "id": "38f7ba8b-4ff0-412b-a927-d25036a5ffe8",
   "metadata": {},
   "outputs": [],
   "source": [
    "rohit = student(7,15)"
   ]
  },
  {
   "cell_type": "code",
   "execution_count": 29,
   "id": "e3ac06a0-4e61-4503-9b97-d01ad0dae920",
   "metadata": {},
   "outputs": [],
   "source": [
    "rohit.setage(17)"
   ]
  },
  {
   "cell_type": "code",
   "execution_count": 31,
   "id": "0dd2f66e-bc80-4e27-91da-05e5c4a074bb",
   "metadata": {},
   "outputs": [
    {
     "name": "stdout",
     "output_type": "stream",
     "text": [
      "17\n"
     ]
    }
   ],
   "source": [
    "rohit.getage()"
   ]
  },
  {
   "cell_type": "markdown",
   "id": "ee76c267-e240-441a-85f9-35d71b1644e2",
   "metadata": {},
   "source": [
    "Q5.What is method overriding in python? Write a python code to demonstrate method overriding."
   ]
  },
  {
   "cell_type": "markdown",
   "id": "3a66abb1-2220-481b-98d0-8a09f0c04602",
   "metadata": {},
   "source": [
    "Method overriding allows  to customize behavior for specific subclasses.\n",
    "It promotes polymorphism, which means that different objects can respond differently to the same method call based on their actual type (class)."
   ]
  },
  {
   "cell_type": "code",
   "execution_count": 36,
   "id": "e113407d-2e24-43ec-81aa-81152a96ae01",
   "metadata": {},
   "outputs": [],
   "source": [
    "class parent:\n",
    "    def show(self):\n",
    "        print(\"this is method from parent class\")\n",
    "class child(parent):\n",
    "    def show(self):\n",
    "        print(\"this is the method from child class\")\n",
    "        "
   ]
  },
  {
   "cell_type": "code",
   "execution_count": 40,
   "id": "3aff6c86-6f79-45b8-8b33-6afbbcaf1b3a",
   "metadata": {},
   "outputs": [],
   "source": [
    "pw = child()\n"
   ]
  },
  {
   "cell_type": "code",
   "execution_count": 42,
   "id": "2dd70d95-751a-4842-b188-5a6482fffdd4",
   "metadata": {},
   "outputs": [
    {
     "name": "stdout",
     "output_type": "stream",
     "text": [
      "this is the method from child class\n"
     ]
    }
   ],
   "source": [
    "pw.show()"
   ]
  }
 ],
 "metadata": {
  "kernelspec": {
   "display_name": "Python 3 (ipykernel)",
   "language": "python",
   "name": "python3"
  },
  "language_info": {
   "codemirror_mode": {
    "name": "ipython",
    "version": 3
   },
   "file_extension": ".py",
   "mimetype": "text/x-python",
   "name": "python",
   "nbconvert_exporter": "python",
   "pygments_lexer": "ipython3",
   "version": "3.10.8"
  }
 },
 "nbformat": 4,
 "nbformat_minor": 5
}
